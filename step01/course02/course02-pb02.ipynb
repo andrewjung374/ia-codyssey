{
 "cells": [
  {
   "cell_type": "markdown",
   "metadata": {},
   "source": [
    "데이터 파일 분석: castings.csv\n",
    "데이터 내용 및 필드 구성\n",
    "castings.csv 파일은 영화 출연진(캐스팅) 정보를 담고 있습니다. 각 열은 다음과 같은 의미를 가집니다.\n",
    "movie: 영화 ID\n",
    "people: 배우 ID\n",
    "order: 영화에서 배우의 출연 순서\n",
    "leading: 주연 여부 (1: 주연, 0: 조연)"
   ]
  },
  {
   "cell_type": "code",
   "execution_count": 1,
   "metadata": {},
   "outputs": [
    {
     "name": "stdout",
     "output_type": "stream",
     "text": [
      "Castings Data Head:\n",
      "   movie  people  order  leading\n",
      "0  10001    4374      1        1\n",
      "1  10001     178      2        1\n",
      "2  10001    3241      3        1\n",
      "3  10001   47952      4        1\n",
      "4  10001   47953      5        0\n",
      "\n",
      "Castings Data Info:\n",
      "<class 'pandas.core.frame.DataFrame'>\n",
      "RangeIndex: 9776 entries, 0 to 9775\n",
      "Data columns (total 4 columns):\n",
      " #   Column   Non-Null Count  Dtype\n",
      "---  ------   --------------  -----\n",
      " 0   movie    9776 non-null   int64\n",
      " 1   people   9776 non-null   int64\n",
      " 2   order    9776 non-null   int64\n",
      " 3   leading  9776 non-null   int64\n",
      "dtypes: int64(4)\n",
      "memory usage: 305.6 KB\n",
      "None\n",
      "\n",
      "Castings Data Describe:\n",
      "              movie         people        order      leading\n",
      "count   9776.000000    9776.000000  9776.000000  9776.000000\n",
      "mean   10499.104746   36151.930851     9.799509     0.295315\n",
      "std      287.023933   62989.430164    12.576221     0.456208\n",
      "min    10001.000000       5.000000     1.000000     0.000000\n",
      "25%    10260.000000    4327.000000     3.000000     0.000000\n",
      "50%    10485.000000   14048.500000     6.000000     0.000000\n",
      "75%    10754.250000   27978.000000    10.000000     1.000000\n",
      "max    10999.000000  420466.000000   101.000000     1.000000\n"
     ]
    }
   ],
   "source": [
    "import pandas as pd\n",
    "\n",
    "# 데이터 로딩\n",
    "castings = pd.read_csv('data/castings.csv')\n",
    "\n",
    "# 처음 5행 출력\n",
    "print(\"Castings Data Head:\")\n",
    "print(castings.head())\n",
    "\n",
    "# 데이터 정보 요약\n",
    "print(\"\\nCastings Data Info:\")\n",
    "print(castings.info())\n",
    "\n",
    "# 기술 통계 정보 요약\n",
    "print(\"\\nCastings Data Describe:\")\n",
    "print(castings.describe())\n"
   ]
  },
  {
   "cell_type": "markdown",
   "metadata": {},
   "source": [
    "기본 통계 정보\n",
    "1. 배우 수\n",
    "2. 영화 수\n",
    "3. 주연/조연 수\n",
    "4. 출연진 수수"
   ]
  },
  {
   "cell_type": "code",
   "execution_count": 2,
   "metadata": {},
   "outputs": [
    {
     "name": "stdout",
     "output_type": "stream",
     "text": [
      "총 배우 수: 6644\n"
     ]
    }
   ],
   "source": [
    "num_people = castings['people'].nunique()\n",
    "print(f\"총 배우 수: {num_people}\")"
   ]
  },
  {
   "cell_type": "code",
   "execution_count": 3,
   "metadata": {},
   "outputs": [
    {
     "name": "stdout",
     "output_type": "stream",
     "text": [
      "총 영화 수: 988\n"
     ]
    }
   ],
   "source": [
    "num_movies = castings['movie'].nunique()\n",
    "print(f\"총 영화 수: {num_movies}\")\n"
   ]
  },
  {
   "cell_type": "code",
   "execution_count": 4,
   "metadata": {},
   "outputs": [
    {
     "name": "stdout",
     "output_type": "stream",
     "text": [
      "주연/조연 배우 수:\n",
      "leading\n",
      "0    6889\n",
      "1    2887\n",
      "Name: count, dtype: int64\n"
     ]
    }
   ],
   "source": [
    "leading_counts = castings['leading'].value_counts()\n",
    "print(f\"주연/조연 배우 수:\\n{leading_counts}\")\n"
   ]
  },
  {
   "cell_type": "code",
   "execution_count": 5,
   "metadata": {},
   "outputs": [
    {
     "name": "stdout",
     "output_type": "stream",
     "text": [
      "총 캐스팅 수: 9776\n"
     ]
    }
   ],
   "source": [
    "num_castings = len(castings)\n",
    "print(f\"총 캐스팅 수: {num_castings}\")"
   ]
  },
  {
   "cell_type": "markdown",
   "metadata": {},
   "source": [
    "데이터 내용 및 필드 구성\n",
    "countries.csv 파일은 영화 제작 국가 정보를 담고 있습니다. 각 열은 다음과 같은 의미를 가집니다.\n",
    "movie: 영화 ID (castings.csv 파일의 movie와 연결)\n",
    "country: 제작 국가명"
   ]
  },
  {
   "cell_type": "code",
   "execution_count": 6,
   "metadata": {},
   "outputs": [
    {
     "name": "stdout",
     "output_type": "stream",
     "text": [
      "Countries Data Head:\n",
      "   movie country\n",
      "0  10001    이탈리아\n",
      "1  10001     프랑스\n",
      "2  10002      미국\n",
      "3  10003      미국\n",
      "4  10004      미국\n",
      "\n",
      "Countries Data Info:\n",
      "<class 'pandas.core.frame.DataFrame'>\n",
      "RangeIndex: 1109 entries, 0 to 1108\n",
      "Data columns (total 2 columns):\n",
      " #   Column   Non-Null Count  Dtype \n",
      "---  ------   --------------  ----- \n",
      " 0   movie    1109 non-null   int64 \n",
      " 1   country  1109 non-null   object\n",
      "dtypes: int64(1), object(1)\n",
      "memory usage: 17.5+ KB\n",
      "None\n",
      "\n",
      "Countries Data Describe:\n",
      "              movie\n",
      "count   1109.000000\n",
      "mean   10496.257890\n",
      "std      285.409915\n",
      "min    10001.000000\n",
      "25%    10253.000000\n",
      "50%    10492.000000\n",
      "75%    10746.000000\n",
      "max    10999.000000\n"
     ]
    }
   ],
   "source": [
    "import pandas as pd\n",
    "\n",
    "# 데이터 로딩\n",
    "countries = pd.read_csv('data/countries.csv')\n",
    "\n",
    "# 처음 5행 출력\n",
    "print(\"Countries Data Head:\")\n",
    "print(countries.head())\n",
    "\n",
    "# 데이터 정보 요약\n",
    "print(\"\\nCountries Data Info:\")\n",
    "print(countries.info())\n",
    "\n",
    "# 기술 통계 정보 요약\n",
    "print(\"\\nCountries Data Describe:\")\n",
    "print(countries.describe())\n"
   ]
  },
  {
   "cell_type": "markdown",
   "metadata": {},
   "source": [
    "genres.csv\n",
    "movie: 영화 ID (castings.csv, countries.csv 파일의 movie와 연결)\n",
    "genre: 장르명"
   ]
  },
  {
   "cell_type": "code",
   "execution_count": 7,
   "metadata": {},
   "outputs": [
    {
     "name": "stdout",
     "output_type": "stream",
     "text": [
      "Genres Data Head:\n",
      "   movie   genre\n",
      "0  10001     드라마\n",
      "1  10001  멜로/로맨스\n",
      "2  10002      SF\n",
      "3  10002     코미디\n",
      "4  10003      SF\n",
      "\n",
      "Genres Data Info:\n",
      "<class 'pandas.core.frame.DataFrame'>\n",
      "RangeIndex: 2025 entries, 0 to 2024\n",
      "Data columns (total 2 columns):\n",
      " #   Column  Non-Null Count  Dtype \n",
      "---  ------  --------------  ----- \n",
      " 0   movie   2025 non-null   int64 \n",
      " 1   genre   2025 non-null   object\n",
      "dtypes: int64(1), object(1)\n",
      "memory usage: 31.8+ KB\n",
      "None\n",
      "\n",
      "Genres Data Describe:\n",
      "              movie\n",
      "count   2025.000000\n",
      "mean   10474.521975\n",
      "std      289.972315\n",
      "min    10001.000000\n",
      "25%    10221.000000\n",
      "50%    10474.000000\n",
      "75%    10719.000000\n",
      "max    10999.000000\n"
     ]
    }
   ],
   "source": [
    "import pandas as pd\n",
    "\n",
    "# 데이터 로딩 (파일 경로 수정 필요)\n",
    "try:\n",
    "    genres = pd.read_csv('data/genres.csv')\n",
    "except FileNotFoundError:\n",
    "    print(\"오류: 'genres.csv' 파일을 찾을 수 없습니다. 파일 경로를 확인해주세요.\")\n",
    "    exit()\n",
    "\n",
    "# 처음 5행 출력\n",
    "print(\"Genres Data Head:\")\n",
    "print(genres.head())\n",
    "\n",
    "# 데이터 정보 요약\n",
    "print(\"\\nGenres Data Info:\")\n",
    "print(genres.info())\n",
    "\n",
    "# 기술 통계 정보 요약\n",
    "print(\"\\nGenres Data Describe:\")\n",
    "print(genres.describe())\n"
   ]
  },
  {
   "cell_type": "markdown",
   "metadata": {},
   "source": [
    "데이터 내용 및 필드 구성\n",
    "rates.csv 파일은 사용자 평점 정보를 담고 있을 것으로 예상됩니다. 일반적인 구성은 다음과 같을 수 있습니다:\n",
    "movie: 영화 ID (castings.csv, countries.csv, genres.csv 파일의 movie와 연결)\n",
    "user: 사용자 ID\n",
    "rating: 평점 (1~5점 척도)\n",
    "timestamp: 평점 기록 시간"
   ]
  },
  {
   "cell_type": "code",
   "execution_count": 8,
   "metadata": {},
   "outputs": [
    {
     "name": "stdout",
     "output_type": "stream",
     "text": [
      "Rates Data Head:\n",
      "   user  movie  rate        time\n",
      "0     0  10003     7  1494128040\n",
      "1     0  10004     7  1467529800\n",
      "2     0  10018     9  1513344120\n",
      "3     0  10021     9  1424497980\n",
      "4     0  10022     7  1427627340\n",
      "\n",
      "Rates Data Info:\n",
      "<class 'pandas.core.frame.DataFrame'>\n",
      "RangeIndex: 140710 entries, 0 to 140709\n",
      "Data columns (total 4 columns):\n",
      " #   Column  Non-Null Count   Dtype\n",
      "---  ------  --------------   -----\n",
      " 0   user    140710 non-null  int64\n",
      " 1   movie   140710 non-null  int64\n",
      " 2   rate    140710 non-null  int64\n",
      " 3   time    140710 non-null  int64\n",
      "dtypes: int64(4)\n",
      "memory usage: 4.3 MB\n",
      "None\n",
      "\n",
      "Rates Data Describe:\n",
      "                user          movie           rate          time\n",
      "count  140710.000000  140710.000000  140710.000000  1.407100e+05\n",
      "mean    14948.679916   10278.818861       8.953258  1.297460e+09\n",
      "std     14539.728057     292.806259       2.106047  1.374877e+08\n",
      "min         0.000000   10001.000000       1.000000  1.069340e+09\n",
      "25%      2980.000000   10048.000000       9.000000  1.180398e+09\n",
      "50%      9292.000000   10148.000000      10.000000  1.271521e+09\n",
      "75%     24129.000000   10489.000000      10.000000  1.409478e+09\n",
      "max     52027.000000   10998.000000      10.000000  1.576526e+09\n"
     ]
    }
   ],
   "source": [
    "import pandas as pd\n",
    "\n",
    "# 데이터 로딩 (파일 경로 수정 필요)\n",
    "try:\n",
    "    rates = pd.read_csv('data/rates.csv')\n",
    "except FileNotFoundError:\n",
    "    print(\"오류: 'rates.csv' 파일을 찾을 수 없습니다. 파일 경로를 확인해주세요.\")\n",
    "    exit()\n",
    "\n",
    "# 처음 5행 출력\n",
    "print(\"Rates Data Head:\")\n",
    "print(rates.head())\n",
    "\n",
    "# 데이터 정보 요약\n",
    "print(\"\\nRates Data Info:\")\n",
    "print(rates.info())\n",
    "\n",
    "# 기술 통계 정보 요약\n",
    "print(\"\\nRates Data Describe:\")\n",
    "print(rates.describe())\n"
   ]
  }
 ],
 "metadata": {
  "kernelspec": {
   "display_name": "codyssey",
   "language": "python",
   "name": "python3"
  },
  "language_info": {
   "codemirror_mode": {
    "name": "ipython",
    "version": 3
   },
   "file_extension": ".py",
   "mimetype": "text/x-python",
   "name": "python",
   "nbconvert_exporter": "python",
   "pygments_lexer": "ipython3",
   "version": "3.13.1"
  }
 },
 "nbformat": 4,
 "nbformat_minor": 2
}
