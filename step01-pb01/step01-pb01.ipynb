{
 "cells": [
  {
   "cell_type": "markdown",
   "metadata": {},
   "source": [
    "- 새로운 가상환경 생성\n",
    "conda create --name codyssey pandas\n",
    "- 가상 환경 실행\n",
    "conda activate codyssey\n",
    "- 영화 개수, 배급사 수, 감독 수, 출연진 수, 장르 수를 파악"
   ]
  },
  {
   "cell_type": "code",
   "execution_count": 1,
   "metadata": {},
   "outputs": [],
   "source": [
    "import pandas as pd"
   ]
  },
  {
   "cell_type": "code",
   "execution_count": 2,
   "metadata": {},
   "outputs": [],
   "source": [
    "# 데이터 읽기\n",
    "data = pd.read_csv('prob-0101.csv')"
   ]
  },
  {
   "cell_type": "code",
   "execution_count": 3,
   "metadata": {},
   "outputs": [],
   "source": [
    "# 각 항목 계산\n",
    "num_movies = len(data)  # 영화 개수\n",
    "num_distributors = data['배급사'].nunique()  # 배급사 수 (중복 제거)\n",
    "num_directors = data['감독'].nunique()  # 감독 수 (중복 제거)\n",
    "num_actors = data['출연진'].apply(lambda x: len(x.split(','))).sum()  # 출연진 수 (쉼표로 구분 후 합산)\n",
    "num_genres = data['장르'].apply(lambda x: len(x.split(','))).sum()  # 장르 수 (쉼표로 구분 후 합산)"
   ]
  },
  {
   "cell_type": "code",
   "execution_count": 4,
   "metadata": {},
   "outputs": [
    {
     "name": "stdout",
     "output_type": "stream",
     "text": [
      "영화 개수: 59\n",
      "배급사 수: 52\n",
      "감독 수: 58\n",
      "출연진 수: 275\n",
      "장르 수: 68\n"
     ]
    }
   ],
   "source": [
    "print(f\"영화 개수: {num_movies}\")\n",
    "print(f\"배급사 수: {num_distributors}\")\n",
    "print(f\"감독 수: {num_directors}\")\n",
    "print(f\"출연진 수: {num_actors}\")\n",
    "print(f\"장르 수: {num_genres}\")"
   ]
  },
  {
   "cell_type": "markdown",
   "metadata": {},
   "source": [
    "- 함수 작성\n",
    "csv 파일을 읽어 DataFrame으로 저장한 data 변수를 파라메터로 받음\n",
    "배급사가 한개 이상이 경우 ', '로 구별\n",
    "감독은 여러명인 경우가 없음\n",
    "출연진은 한개 이상의 경우 ', '로 구별\n",
    "장르는 한개 이상의 경우 '·'나 '/'를 ','로 변경하고 \n",
    "구별하는게 어떤경우는 ', '이지만 장르 경우는 ','로 구별해야 하기도 함. 따라서 정규식 표현으로 구별."
   ]
  },
  {
   "cell_type": "code",
   "execution_count": 5,
   "metadata": {},
   "outputs": [],
   "source": [
    "import re"
   ]
  },
  {
   "cell_type": "markdown",
   "metadata": {},
   "source": [
    "- 정규표현식 r'[,·/]|\\s*,\\s*'의 의미\n",
    "[,·/]: ',', '·', '/' 중 하나와 일치\n",
    "|: 또는\n",
    "\\s*,\\s*: 선택적 공백과 쉼표, 그리고 다시 선택적 공백\n",
    "- 정규식 검증\n",
    "(참고) https://inpa.tistory.com/entry/%F0%9F%92%BB-%EC%A0%95%EA%B7%9C%EC%8B%9D-%ED%85%8C%EC%8A%A4%ED%8A%B8-%EC%82%AC%EC%9D%B4%ED%8A%B8-%F0%9F%8E%81-%EB%AA%A8%EC%9D%8C\n",
    "https://regexr.com/\n",
    "https://regexr.com/8ad0p\n",
    "(참고) https://yenbook.tistory.com/66\n",
    "https://www.regextester.com/"
   ]
  },
  {
   "cell_type": "markdown",
   "metadata": {},
   "source": [
    "def analyze_movie_data(data):\n",
    "    # 고유한 값 추출\n",
    "    unique_distributors = set()\n",
    "    unique_directors = set()\n",
    "    unique_cast = set()\n",
    "    unique_genres = set()\n",
    "\n",
    "    for _, row in data.iterrows():\n",
    "        # 배급사 분리 및 추가\n",
    "        distributors = re.split(r'[,·/]|\\s*,\\s*', row['배급사'])\n",
    "        # distributors = row['배급사'].split(', ')\n",
    "        # if len(distributors) > 1:\n",
    "        #     for distributor in distributors:\n",
    "        #         unique_distributors.update(distributor)\n",
    "        # else:\n",
    "        #     unique_distributors.update(distributors)\n",
    "        unique_distributors.update(distributors)\n",
    "        \n",
    "        # 감독 추가\n",
    "        unique_directors.add(row['감독'])\n",
    "\n",
    "        # 출연진 분리 및 추가\n",
    "        cast = re.split(r'[,·/]|\\s*,\\s*', row['출연진'])\n",
    "        #cast = row['출연진'].split(', ')\n",
    "        # if len(cast) > 1:\n",
    "        #     for actor in cast:\n",
    "        #         unique_cast.update(actor)\n",
    "        # else:\n",
    "        #     unique_cast.update(cast)\n",
    "        unique_cast.update(cast)\n",
    "        \n",
    "        # 장르 분리 및 추가\n",
    "        row['장르'] = row['장르'].replace('·', ', ')\n",
    "        row['장르'] = row['장르'].replace('/', ', ')\n",
    "        #genres = row['장르'].split(', ')\n",
    "        genres = re.split(r'[,·/]|\\s*,\\s*', row['장르'])\n",
    "        # print(\"genres: \", genres)\n",
    "        unique_genres.update(genres)\n",
    "\n",
    "    # 결과 계산\n",
    "    num_movies = len(data)\n",
    "    num_distributors = len(unique_distributors)\n",
    "    num_directors = len(unique_directors)\n",
    "    num_cast = len(unique_cast)\n",
    "    num_genres = len(unique_genres)\n",
    "    # print(\"장르: \", unique_genres)\n",
    "    return num_movies, num_distributors, num_directors, num_cast, num_genres, unique_genres, unique_cast"
   ]
  },
  {
   "cell_type": "code",
   "execution_count": 6,
   "metadata": {},
   "outputs": [],
   "source": [
    "def analyze_movie_data(data):\n",
    "    unique_distributors = set()\n",
    "    unique_directors = set()\n",
    "    unique_cast = set()\n",
    "    unique_genres = set()\n",
    "\n",
    "    for _, row in data.iterrows():\n",
    "        unique_distributors.update(re.split(r'[,·/]|\\s*,\\s*', row['배급사']))\n",
    "        unique_directors.add(row['감독'])\n",
    "        unique_cast.update(re.split(r'[,·/]|\\s*,\\s*', row['출연진']))\n",
    "        unique_genres.update(re.split(r'[,·/]|\\s*,\\s*', row['장르']))\n",
    "\n",
    "    return (\n",
    "        len(data),\n",
    "        len(unique_distributors),\n",
    "        len(unique_directors),\n",
    "        len(unique_cast),\n",
    "        len(unique_genres)\n",
    "    )\n"
   ]
  },
  {
   "cell_type": "code",
   "execution_count": 7,
   "metadata": {},
   "outputs": [
    {
     "name": "stdout",
     "output_type": "stream",
     "text": [
      "영화 개수: 59\n",
      "배급사 수: 52, 배급사 수: 55\n",
      "감독 수: 58, 감독 수: 58\n",
      "출연진 수: 275, 출연진 수: 268\n",
      "장르 수: 68, 장르 수: 17\n"
     ]
    }
   ],
   "source": [
    "# 데이터 분석 실행\n",
    "result = analyze_movie_data(data)\n",
    "print(f\"영화 개수: {result[0]}\")\n",
    "print(f\"배급사 수: {num_distributors}, 배급사 수: {result[1]}\")\n",
    "print(f\"감독 수: {num_directors}, 감독 수: {result[2]}\")\n",
    "print(f\"출연진 수: {num_actors}, 출연진 수: {result[3]}\")\n",
    "print(f\"장르 수: {num_genres}, 장르 수: {result[4]}\")"
   ]
  },
  {
   "cell_type": "markdown",
   "metadata": {},
   "source": [
    "print(f\"고유 장르: {result[5]}\")\n",
    "print(f\"고유 출연진: {result[6]}\")"
   ]
  },
  {
   "cell_type": "code",
   "execution_count": 12,
   "metadata": {},
   "outputs": [
    {
     "name": "stdout",
     "output_type": "stream",
     "text": [
      "고유 출연진 수: 262\n"
     ]
    }
   ],
   "source": [
    "# 출연진의 중복을 제거하고 고유한 출연진 수를 계산\n",
    "unique_actors = set()\n",
    "\n",
    "def add_actors(actors_string):\n",
    "    if isinstance(actors_string, str):\n",
    "        actors = [actor.strip() for actor in actors_string.split(',')]\n",
    "        unique_actors.update(actors)\n",
    "\n",
    "data['출연진'].apply(add_actors)\n",
    "num_unique_actors = len(unique_actors)\n",
    "print(\"고유 출연진 수:\", num_unique_actors)"
   ]
  },
  {
   "cell_type": "markdown",
   "metadata": {},
   "source": [
    "def calculate_unique_actors(data):\n",
    "    unique_actors = set()\n",
    "\n",
    "    def process_actors(actors_string):\n",
    "        if isinstance(actors_string, str):\n",
    "            # 정규식을 사용하여 출연진 분리\n",
    "            actors = re.split(r'[,·/]\\s*', actors_string)\n",
    "            return [actor.strip() for actor in actors]\n",
    "        return []\n",
    "\n",
    "    # 각 행의 출연진을 처리하고 고유한 배우 집합에 추가\n",
    "    for actors_list in data['출연진'].apply(process_actors):\n",
    "        unique_actors.update(actors_list)\n",
    "\n",
    "    return len(unique_actors)\n",
    "\n",
    "# 고유한 출연진 수 계산\n",
    "num_unique_actors = calculate_unique_actors(data)\n",
    "print(\"고유 출연진 수:\", num_unique_actors)"
   ]
  },
  {
   "cell_type": "code",
   "execution_count": null,
   "metadata": {},
   "outputs": [],
   "source": [
    "num = 0\n",
    "for actor in unique_actors:\n",
    "  num += 1\n",
    "  print (num, actor)"
   ]
  },
  {
   "cell_type": "markdown",
   "metadata": {},
   "source": [
    "** 영화 추천 방식 **\n",
    "- 개인 취양 장르/배우 로 추천\n",
    "- 추천 갯수 입력 (3~5개 이하 권장)"
   ]
  },
  {
   "cell_type": "code",
   "execution_count": 17,
   "metadata": {},
   "outputs": [
    {
     "name": "stdout",
     "output_type": "stream",
     "text": [
      "\n",
      "추천 영화:\n",
      "제목: 살수\n",
      "감독: 곽정덕\n",
      "출연진: 신현준, 이문식, 김민경, 홍은기, 최성원\n",
      "장르: 액션\n",
      "\n",
      "제목: 나는 여기에 있다\n",
      "감독: 신근호\n",
      "출연진: 조한선, 정지운, 정태우, 노수산나, 박순천, 정인기, 이지원\n",
      "장르: 범죄·액션·스럴리\n",
      "\n",
      "제목: 범죄도시 3\n",
      "감독: 이상용\n",
      "출연진: 마동석, 이준혁, 아오키 무네타카, 이범수, 김민재, 이지훈, 김도건, 최동구, 이세호, 고규필, 전석호, 최우준, 한규원, 이태규, 홍준영, 안세호, 강윤, 배누리, 심영은, 김기호\n",
      "장르: 범죄, 액션\n",
      "\n",
      "제목: 귀공자\n",
      "감독: 박훈정\n",
      "출연진: 김선호, 강태주, 김강우, 고아라\n",
      "장르: 액션\n",
      "\n",
      "제목: 유령\n",
      "감독: 이해영\n",
      "출연진: 설경구, 이하늬, 박소감, 박해수, 서현우, 김동희\n",
      "장르: 액션\n",
      "\n"
     ]
    }
   ],
   "source": [
    "import pandas as pd\n",
    "import random\n",
    "\n",
    "# CSV 파일 읽기\n",
    "# data = pd.read_csv('prob-0101.csv')\n",
    "\n",
    "def recommend_movies(preferred_genre, num_recommendations):\n",
    "    # 선호하는 장르에 해당하는 영화 필터링\n",
    "    genre_movies = data[data['장르'].str.contains(preferred_genre, case=False, na=False)]\n",
    "    \n",
    "    # 추천할 영화 수가 해당 장르의 영화 수보다 많으면 조정\n",
    "    num_recommendations = min(num_recommendations, len(genre_movies))\n",
    "    \n",
    "    # 랜덤하게 영화 선택\n",
    "    recommended_movies = genre_movies.sample(n=num_recommendations)\n",
    "    \n",
    "    return recommended_movies[['제목', '감독', '출연진', '장르']]\n",
    "\n",
    "# 사용자 입력 받기\n",
    "preferred_genre = input(\"선호하는 장르를 입력하세요: \")\n",
    "num_recommendations = int(input(\"추천 받을 영화 수를 입력하세요: \"))\n",
    "\n",
    "# 영화 추천\n",
    "recommendations = recommend_movies(preferred_genre, num_recommendations)\n",
    "\n",
    "print(\"\\n추천 영화:\")\n",
    "for _, movie in recommendations.iterrows():\n",
    "    print(f\"제목: {movie['제목']}\")\n",
    "    print(f\"감독: {movie['감독']}\")\n",
    "    print(f\"출연진: {movie['출연진']}\")\n",
    "    print(f\"장르: {movie['장르']}\")\n",
    "    print()\n"
   ]
  },
  {
   "cell_type": "markdown",
   "metadata": {},
   "source": [
    "# 영화 추천 방식\n",
    "# 1. 사용자 입력: 사용자로부터 선호하는 장르, 배우, 감독 등의 정보를 입력받습니다.\n",
    "# 2. 데이터 필터링: 입력받은 정보를 바탕으로 데이터프레임을 필터링합니다.\n",
    "# 3. 점수 계산: 각 영화에 대해 사용자 선호도에 따른 점수를 계산합니다.\n",
    "#    - 장르 일치: +3점\n",
    "#    - 배우 일치: +2점 (주연배우 기준)\n",
    "#    - 감독 일치: +2점\n",
    "# 4. 정렬 및 추천: 계산된 점수를 기준으로 영화를 내림차순 정렬하고 상위 5편을 추천합니다.\n"
   ]
  },
  {
   "cell_type": "code",
   "execution_count": 18,
   "metadata": {},
   "outputs": [
    {
     "name": "stdout",
     "output_type": "stream",
     "text": [
      "\n",
      "추천 영화:\n",
      "              제목  감독                출연진  장르  score\n",
      "            강남좀비 이수성            지일주, 지연 드라마      3\n",
      "어쩌면 우린 헤어졌는지 모른다 형슬우 이동휘, 정은채, 강길우, 정다은 드라마      3\n",
      "              교섭 임순례       황정민, 현빈, 강기영 드라마      3\n",
      "           다음 소희 정주리 김시은, 배두나, 박우영, 정수하 드라마      3\n",
      "  열여덟, 어른이 되는 나이  주영 임선우, 김명찬, 이장유, 박현숙 드라마      3\n"
     ]
    }
   ],
   "source": [
    "def get_user_preferences():\n",
    "    genre = input(\"선호하는 장르를 입력하세요: \")\n",
    "    actor = input(\"선호하는 배우를 입력하세요: \")\n",
    "    director = input(\"선호하는 감독을 입력하세요: \")\n",
    "    return genre, actor, director\n",
    "\n",
    "def calculate_score(row, genre, actor, director):\n",
    "    score = 0\n",
    "    if genre in row['장르']:\n",
    "        score += 3\n",
    "    if actor in row['출연진']:\n",
    "        score += 2\n",
    "    if director == row['감독']:\n",
    "        score += 2\n",
    "    return score\n",
    "\n",
    "def recommend_movies(data, genre, actor, director):\n",
    "    data['score'] = data.apply(lambda row: calculate_score(row, genre, actor, director), axis=1)\n",
    "    recommended = data.sort_values('score', ascending=False).head(5)\n",
    "    return recommended[['제목', '감독', '출연진', '장르', 'score']]\n",
    "\n",
    "# 메인 실행 코드\n",
    "genre, actor, director = get_user_preferences()\n",
    "recommendations = recommend_movies(data, genre, actor, director)\n",
    "\n",
    "print(\"\\n추천 영화:\")\n",
    "print(recommendations.to_string(index=False))"
   ]
  },
  {
   "cell_type": "code",
   "execution_count": 19,
   "metadata": {},
   "outputs": [
    {
     "name": "stdout",
     "output_type": "stream",
     "text": [
      "영화 추천이 완료되었습니다. 결과는 'recommended_movies.csv' 파일에 저장되었습니다.\n"
     ]
    }
   ],
   "source": [
    "import pandas as pd\n",
    "import numpy as np\n",
    "from datetime import datetime\n",
    "\n",
    "# 원본 데이터 로드\n",
    "data = pd.read_csv('prob-0101.csv')\n",
    "\n",
    "# 영화 추천 시스템 구현\n",
    "def recommend_movies(data, user_preferences):\n",
    "    \"\"\"\n",
    "    영화 추천 시스템\n",
    "    \n",
    "    추천 방식:\n",
    "    1. 개봉일: 최신 영화에 더 높은 점수 부여\n",
    "    2. 장르: 사용자 선호 장르와 일치하는 영화에 높은 점수 부여\n",
    "    3. 출연진: 사용자가 선호하는 배우가 출연한 영화에 추가 점수 부여\n",
    "    4. 감독: 사용자가 선호하는 감독의 영화에 추가 점수 부여\n",
    "    \"\"\"\n",
    "    \n",
    "    # 새로운 DataFrame 생성\n",
    "    df = data.copy()\n",
    "    \n",
    "    # 현재 날짜\n",
    "    current_date = datetime.now()\n",
    "    \n",
    "    # 개봉일 기반 점수 계산\n",
    "    df['개봉일'] = pd.to_datetime(df['개봉일'])\n",
    "    df['date_score'] = (current_date - df['개봉일']).dt.days\n",
    "    df['date_score'] = 1 - (df['date_score'] - df['date_score'].min()) / (df['date_score'].max() - df['date_score'].min())\n",
    "    \n",
    "    # 장르 기반 점수 계산\n",
    "    df['genre_score'] = df['장르'].apply(lambda x: any(genre in x for genre in user_preferences['genres']) if isinstance(x, str) else False).astype(int)\n",
    "    \n",
    "    # 출연진 기반 점수 계산\n",
    "    df['cast_score'] = df['출연진'].apply(lambda x: sum(actor in x for actor in user_preferences['actors']) if isinstance(x, str) else 0)\n",
    "    df['cast_score'] = df['cast_score'] / df['cast_score'].max() if df['cast_score'].max() > 0 else 0\n",
    "    \n",
    "    # 감독 기반 점수 계산\n",
    "    df['director_score'] = df['감독'].apply(lambda x: 1 if x in user_preferences['directors'] else 0)\n",
    "    \n",
    "    # 최종 점수 계산\n",
    "    df['score'] = (df['date_score'] * 0.3 + \n",
    "                   df['genre_score'] * 0.3 + \n",
    "                   df['cast_score'] * 0.2 + \n",
    "                   df['director_score'] * 0.2)\n",
    "    \n",
    "    # 불필요한 열 제거\n",
    "    df = df.drop(['date_score', 'genre_score', 'cast_score', 'director_score'], axis=1)\n",
    "    \n",
    "    # 점수 기준 정렬\n",
    "    df = df.sort_values('score', ascending=False).reset_index(drop=True)\n",
    "    \n",
    "    return df\n",
    "\n",
    "# 사용자 선호도 예시\n",
    "user_preferences = {\n",
    "    'genres': ['드라마', '액션'],\n",
    "    'actors': ['이하늬', '마동석'],\n",
    "    'directors': ['이병헌', '박훈정']\n",
    "}\n",
    "\n",
    "# 영화 추천 실행\n",
    "recommended_movies = recommend_movies(data, user_preferences)\n",
    "\n",
    "# 결과 저장\n",
    "recommended_movies.to_csv('recommended_movies.csv', index=False, encoding='utf-8-sig')\n",
    "\n",
    "print(\"영화 추천이 완료되었습니다. 결과는 'recommended_movies.csv' 파일에 저장되었습니다.\")\n"
   ]
  }
 ],
 "metadata": {
  "kernelspec": {
   "display_name": "codyssey",
   "language": "python",
   "name": "python3"
  },
  "language_info": {
   "codemirror_mode": {
    "name": "ipython",
    "version": 3
   },
   "file_extension": ".py",
   "mimetype": "text/x-python",
   "name": "python",
   "nbconvert_exporter": "python",
   "pygments_lexer": "ipython3",
   "version": "3.13.1"
  }
 },
 "nbformat": 4,
 "nbformat_minor": 2
}
